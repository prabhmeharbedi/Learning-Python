{
  "nbformat": 4,
  "nbformat_minor": 0,
  "metadata": {
    "colab": {
      "provenance": [],
      "toc_visible": true,
      "authorship_tag": "ABX9TyMGs5iiSyevHzvYJrnXOieS",
      "include_colab_link": true
    },
    "kernelspec": {
      "name": "python3",
      "display_name": "Python 3"
    },
    "language_info": {
      "name": "python"
    }
  },
  "cells": [
    {
      "cell_type": "markdown",
      "metadata": {
        "id": "view-in-github",
        "colab_type": "text"
      },
      "source": [
        "<a href=\"https://colab.research.google.com/github/prabhmeharbedi/Learning-Python/blob/main/Challenge_Question.ipynb\" target=\"_parent\"><img src=\"https://colab.research.google.com/assets/colab-badge.svg\" alt=\"Open In Colab\"/></a>"
      ]
    },
    {
      "cell_type": "markdown",
      "source": [
        "# Write a python program to sort the list of heterogeneous data.\n",
        "#e.g.\n",
        "#L = [\"Ram\", 1, \"Shyam\", 2, \"Aman\", 3] print(L)\n",
        "#L.sort()\n",
        "#print(L)\n",
        "# Above code gives error. Correct it."
      ],
      "metadata": {
        "id": "4F6hzBgDbgFf"
      }
    },
    {
      "cell_type": "code",
      "source": [
        "L = [\"Ram\", 1, \"Shyam\", 2, \"Aman\", 3]\n",
        "print(\"Original list:\", L)\n",
        "\n",
        "L_sorted = sorted(L, key=lambda x: str(x))\n",
        "print(\"Sorted list:\", L_sorted)\n"
      ],
      "metadata": {
        "colab": {
          "base_uri": "https://localhost:8080/"
        },
        "id": "e9FFQw11bo4z",
        "outputId": "5c52ce91-ff15-4a1e-f40a-b824e65b012f"
      },
      "execution_count": 1,
      "outputs": [
        {
          "output_type": "stream",
          "name": "stdout",
          "text": [
            "Original list: ['Ram', 1, 'Shyam', 2, 'Aman', 3]\n",
            "Sorted list: [1, 2, 3, 'Aman', 'Ram', 'Shyam']\n"
          ]
        }
      ]
    },
    {
      "cell_type": "markdown",
      "source": [
        "---\n",
        "The error is due to the fact that the elements in the list are of different types, and Python's list.sort() method cannot directly compare and sort elements of different types."
      ],
      "metadata": {
        "id": "BgSqRysjcEUz"
      }
    }
  ]
}