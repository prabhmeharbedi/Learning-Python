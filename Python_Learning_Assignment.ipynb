{
  "nbformat": 4,
  "nbformat_minor": 0,
  "metadata": {
    "colab": {
      "provenance": [],
      "authorship_tag": "ABX9TyMCZcDh2qb6hsMh/7nTCPKM",
      "include_colab_link": true
    },
    "kernelspec": {
      "name": "python3",
      "display_name": "Python 3"
    },
    "language_info": {
      "name": "python"
    }
  },
  "cells": [
    {
      "cell_type": "markdown",
      "metadata": {
        "id": "view-in-github",
        "colab_type": "text"
      },
      "source": [
        "<a href=\"https://colab.research.google.com/github/prabhmeharbedi/Learning-Python/blob/main/Python_Learning_Assignment.ipynb\" target=\"_parent\"><img src=\"https://colab.research.google.com/assets/colab-badge.svg\" alt=\"Open In Colab\"/></a>"
      ]
    },
    {
      "cell_type": "markdown",
      "source": [
        "--\n",
        "# **Python Learning Assignment**\n",
        "--\n",
        "---\n",
        "\n",
        "### There are 13 Questions in this Assignment:\n"
      ],
      "metadata": {
        "id": "CdPEvvJyvlo0"
      }
    },
    {
      "cell_type": "markdown",
      "source": [
        "---\n",
        "#Q1 - L is a list defined as L= [11, 12, 13, 14]."
      ],
      "metadata": {
        "id": "g-I5VmB27v_0"
      }
    },
    {
      "cell_type": "markdown",
      "source": [
        "---\n",
        "### 1.1 - WAP to add 50 and 60 to L.\n",
        "---"
      ],
      "metadata": {
        "id": "9I7g0hvx8FSp"
      }
    },
    {
      "cell_type": "code",
      "source": [
        "#1.1\n",
        "L= [11, 12, 13, 14]\n",
        "print (\"Original List --> \", L)\n",
        "L.append(50)  #adding 50 to L\n",
        "L.append(60)  #adding 60 to L\n",
        "print (\"List after changes --> \", L)"
      ],
      "metadata": {
        "id": "erDGKPmJxY1M",
        "colab": {
          "base_uri": "https://localhost:8080/"
        },
        "outputId": "cc7cb0b5-b0ec-49bb-c403-9d7c1ac35cd9"
      },
      "execution_count": 1,
      "outputs": [
        {
          "output_type": "stream",
          "name": "stdout",
          "text": [
            "Original List -->  [11, 12, 13, 14]\n",
            "List after changes -->  [11, 12, 13, 14, 50, 60]\n"
          ]
        }
      ]
    },
    {
      "cell_type": "markdown",
      "source": [
        "---\n",
        "### 1.2 - WAP to remove 11 and 13 from L.\n",
        "---\n",
        "\n"
      ],
      "metadata": {
        "id": "_W-QEJGxyJbB"
      }
    },
    {
      "cell_type": "code",
      "source": [
        "#1.2\n",
        "L= [11, 12, 13, 14]\n",
        "print (\"Original List --> \", L)\n",
        "L.remove(11)  #removing 11 from L\n",
        "L.remove(13)  #removing 13 from L\n",
        "print (\"List after changes --> \", L)"
      ],
      "metadata": {
        "colab": {
          "base_uri": "https://localhost:8080/"
        },
        "id": "Ob3Juhgkye-v",
        "outputId": "92bcca6e-4f25-4d2a-a971-048e564f55e0"
      },
      "execution_count": 2,
      "outputs": [
        {
          "output_type": "stream",
          "name": "stdout",
          "text": [
            "Original List -->  [11, 12, 13, 14, 50, 60]\n",
            "List after changes -->  [12, 14, 50, 60]\n"
          ]
        }
      ]
    },
    {
      "cell_type": "markdown",
      "source": [
        "---\n",
        "### 1.3 - WAP to sort L in ascending order.\n",
        "---\n"
      ],
      "metadata": {
        "id": "DMWW6dlWzNVK"
      }
    },
    {
      "cell_type": "code",
      "source": [
        "#1.3\n",
        "L= [11, 12, 13, 14]\n",
        "print (\"Original List --> \", L)\n",
        "L.sort()\n",
        "print (\"List after Sorting --> \", L)"
      ],
      "metadata": {
        "colab": {
          "base_uri": "https://localhost:8080/"
        },
        "id": "c10P7lUKzTd1",
        "outputId": "a5ea86b5-b2e2-4a7b-aec3-7824b6b2bc33"
      },
      "execution_count": 3,
      "outputs": [
        {
          "output_type": "stream",
          "name": "stdout",
          "text": [
            "Original List -->  [12, 14, 50, 60]\n",
            "List after Sorting -->  [12, 14, 50, 60]\n"
          ]
        }
      ]
    },
    {
      "cell_type": "markdown",
      "source": [
        "---\n",
        "### 1.4 - WAP to sort L in descending order.\n",
        "---\n"
      ],
      "metadata": {
        "id": "8qotaKdx04gO"
      }
    },
    {
      "cell_type": "code",
      "source": [
        "#1.4\n",
        "L= [11, 12, 13, 14]\n",
        "print (\"Original List --> \", L)\n",
        "L.sort(reverse=True)\n",
        "print (\"List after Sorting --> \", L)"
      ],
      "metadata": {
        "colab": {
          "base_uri": "https://localhost:8080/"
        },
        "id": "6niilJZg07ui",
        "outputId": "e4018b3d-1328-4819-9de8-79a819e48c8b"
      },
      "execution_count": 4,
      "outputs": [
        {
          "output_type": "stream",
          "name": "stdout",
          "text": [
            "Original List -->  [12, 14, 50, 60]\n",
            "List after Sorting -->  [60, 50, 14, 12]\n"
          ]
        }
      ]
    },
    {
      "cell_type": "markdown",
      "source": [
        "---\n",
        "### 1.5 - WAP to search 13 in L.\n",
        "---\n"
      ],
      "metadata": {
        "id": "d9qa6BYV6eXT"
      }
    },
    {
      "cell_type": "code",
      "source": [
        "#1.5\n",
        "L= [11, 12, 13, 14]\n",
        "print (\"List --> \", L)\n",
        "for i in range(len(L)):\n",
        "  if L[i]==13:        # finding 13 in L\n",
        "    print(\"Found at %d index\"%(i+1))\n",
        "  else:\n",
        "    print (\"Not Found\")\n"
      ],
      "metadata": {
        "colab": {
          "base_uri": "https://localhost:8080/"
        },
        "id": "VomMKMWU1Kao",
        "outputId": "9c5475ef-1843-4c4d-a6b8-0f6604cc5131"
      },
      "execution_count": 5,
      "outputs": [
        {
          "output_type": "stream",
          "name": "stdout",
          "text": [
            "List -->  [60, 50, 14, 12]\n",
            "Not Found\n",
            "Not Found\n",
            "Found at 3 index\n",
            "Not Found\n"
          ]
        }
      ]
    },
    {
      "cell_type": "markdown",
      "source": [
        "---\n",
        "### 1.6 - WAP to count the number of elements present in L.\n",
        "---\n"
      ],
      "metadata": {
        "id": "8GZ-nf2B6i8w"
      }
    },
    {
      "cell_type": "code",
      "source": [
        "#1.6\n",
        "L= [11, 12, 13, 14]\n",
        "print (\"List --> \", L)\n",
        "print(len(L))     #counting the number of items in L"
      ],
      "metadata": {
        "colab": {
          "base_uri": "https://localhost:8080/"
        },
        "id": "KDNcRn6V27xk",
        "outputId": "31d02dda-ce2f-4d0a-a9f9-93fa205fbb46"
      },
      "execution_count": 7,
      "outputs": [
        {
          "output_type": "stream",
          "name": "stdout",
          "text": [
            "4\n"
          ]
        }
      ]
    },
    {
      "cell_type": "markdown",
      "source": [
        "---\n",
        "### 1.7 - WAP to sum all the elements in L.\n",
        "---\n"
      ],
      "metadata": {
        "id": "LGgARJ116jvl"
      }
    },
    {
      "cell_type": "code",
      "source": [
        "#1.7\n",
        "L= [11, 12, 13, 14]\n",
        "print (\"List --> \", L)\n",
        "print(\"Sum of elements in list is \",sum(L))"
      ],
      "metadata": {
        "colab": {
          "base_uri": "https://localhost:8080/"
        },
        "id": "odHL7ckl3F3q",
        "outputId": "5e1f573e-264a-447a-9e46-6a6cdd38ce5e"
      },
      "execution_count": 15,
      "outputs": [
        {
          "output_type": "stream",
          "name": "stdout",
          "text": [
            "List -->  [11, 12, 13, 14]\n",
            "Sum of elements in list is  50\n"
          ]
        }
      ]
    },
    {
      "cell_type": "markdown",
      "source": [
        "---\n",
        "### 1.8 - WAP to sum all ODD elements in L.\n",
        "---"
      ],
      "metadata": {
        "id": "wuIVe7Xz6kPE"
      }
    },
    {
      "cell_type": "code",
      "source": [
        "#1.8\n",
        "L= [11, 12, 13, 14]\n",
        "print (\"List --> \", L)\n",
        "sum = 0\n",
        "for i in L:\n",
        "  if i%2:\n",
        "    sum+=i\n",
        "print(\"Sum of ODD elements in list is \",sum)"
      ],
      "metadata": {
        "colab": {
          "base_uri": "https://localhost:8080/"
        },
        "id": "Lv4kDjwt331m",
        "outputId": "700c0a8e-e003-481f-96dc-1db40520e675"
      },
      "execution_count": 18,
      "outputs": [
        {
          "output_type": "stream",
          "name": "stdout",
          "text": [
            "List -->  [11, 12, 13, 14]\n",
            "Sum of ODD elements in list is  24\n"
          ]
        }
      ]
    },
    {
      "cell_type": "markdown",
      "source": [
        "---\n",
        "### 1.9 - WAP to sum all EVEN elements in L.\n",
        "---"
      ],
      "metadata": {
        "id": "_b9rgzYW6k29"
      }
    },
    {
      "cell_type": "code",
      "source": [
        "#1.9\n",
        "L= [11, 12, 13, 14]\n",
        "print (\"List --> \", L)\n",
        "sum = 0\n",
        "for i in L:\n",
        "  if not(i%2):\n",
        "    sum+=i\n",
        "print(\"Sum of EVEN elements in list is \",sum)"
      ],
      "metadata": {
        "colab": {
          "base_uri": "https://localhost:8080/"
        },
        "id": "a7TSpMkY4lvH",
        "outputId": "2c782b16-82a8-4b15-83df-6813abbe13bd"
      },
      "execution_count": 21,
      "outputs": [
        {
          "output_type": "stream",
          "name": "stdout",
          "text": [
            "List -->  [11, 12, 13, 14]\n",
            "Sum of EVEN elements in list is  26\n"
          ]
        }
      ]
    },
    {
      "cell_type": "markdown",
      "source": [
        "---\n",
        "### 1.10 - WAP to sum all PRIME elements in L.\n",
        "---"
      ],
      "metadata": {
        "id": "QGw88t7d6lZU"
      }
    },
    {
      "cell_type": "code",
      "source": [
        "#1.10\n",
        "def IsPrime(n):\n",
        "\tfor i in range(2, n//2 + 1):\n",
        "\t\tif n%i==0:\n",
        "\t\t\treturn 0\n",
        "\treturn 1\n",
        "L= [11, 12, 13, 14]\n",
        "print (\"List --> \", L)\n",
        "sum = 0\n",
        "for i in L:\n",
        "  if IsPrime(i):\n",
        "    sum+=i\n",
        "print(\"Sum of PRIME elements in list is \",sum)"
      ],
      "metadata": {
        "colab": {
          "base_uri": "https://localhost:8080/"
        },
        "id": "TIG1ez2u43A2",
        "outputId": "3420aa2b-c587-4572-9554-73decc52589f"
      },
      "execution_count": 23,
      "outputs": [
        {
          "output_type": "stream",
          "name": "stdout",
          "text": [
            "List -->  [11, 12, 13, 14]\n",
            "Sum of PRIME elements in list is  24\n"
          ]
        }
      ]
    },
    {
      "cell_type": "markdown",
      "source": [
        "---\n",
        "### 1.11 - WAP to clear all elements in L.\n",
        "---"
      ],
      "metadata": {
        "id": "Cg562hvw6mDf"
      }
    },
    {
      "cell_type": "code",
      "source": [
        "#1.11\n",
        "L= [11, 12, 13, 14]\n",
        "print (\"List --> \", L)\n",
        "L.clear()\n",
        "print (\"List after changes --> \", L)"
      ],
      "metadata": {
        "colab": {
          "base_uri": "https://localhost:8080/"
        },
        "id": "nb-uaS3E5atw",
        "outputId": "f6de10d5-b59b-4509-a734-b4273d9712a1"
      },
      "execution_count": 28,
      "outputs": [
        {
          "output_type": "stream",
          "name": "stdout",
          "text": [
            "List -->  [11, 12, 13, 14]\n",
            "List after changes -->  []\n"
          ]
        }
      ]
    },
    {
      "cell_type": "markdown",
      "source": [
        "---\n",
        "### 1.12 - WAP to delete L.\n",
        "---"
      ],
      "metadata": {
        "id": "51uMrjPX6m-V"
      }
    },
    {
      "cell_type": "code",
      "source": [
        "#1.12\n",
        "L= [11, 12, 13, 14]\n",
        "print (\"List --> \", L)\n",
        "del(L)\n",
        "print (\"List after changes --> \", L)      # error because L does not exists"
      ],
      "metadata": {
        "colab": {
          "base_uri": "https://localhost:8080/",
          "height": 215
        },
        "id": "XT8ywvqq6MB1",
        "outputId": "687b086b-7b0e-4ac0-d87d-3ca78051bfda"
      },
      "execution_count": 29,
      "outputs": [
        {
          "output_type": "stream",
          "name": "stdout",
          "text": [
            "List -->  [11, 12, 13, 14]\n"
          ]
        },
        {
          "output_type": "error",
          "ename": "NameError",
          "evalue": "ignored",
          "traceback": [
            "\u001b[0;31m---------------------------------------------------------------------------\u001b[0m",
            "\u001b[0;31mNameError\u001b[0m                                 Traceback (most recent call last)",
            "\u001b[0;32m<ipython-input-29-bc00501f4ae3>\u001b[0m in \u001b[0;36m<cell line: 5>\u001b[0;34m()\u001b[0m\n\u001b[1;32m      3\u001b[0m \u001b[0mprint\u001b[0m \u001b[0;34m(\u001b[0m\u001b[0;34m\"List --> \"\u001b[0m\u001b[0;34m,\u001b[0m \u001b[0mL\u001b[0m\u001b[0;34m)\u001b[0m\u001b[0;34m\u001b[0m\u001b[0;34m\u001b[0m\u001b[0m\n\u001b[1;32m      4\u001b[0m \u001b[0;32mdel\u001b[0m\u001b[0;34m(\u001b[0m\u001b[0mL\u001b[0m\u001b[0;34m)\u001b[0m\u001b[0;34m\u001b[0m\u001b[0;34m\u001b[0m\u001b[0m\n\u001b[0;32m----> 5\u001b[0;31m \u001b[0mprint\u001b[0m \u001b[0;34m(\u001b[0m\u001b[0;34m\"List after changes --> \"\u001b[0m\u001b[0;34m,\u001b[0m \u001b[0mL\u001b[0m\u001b[0;34m)\u001b[0m\u001b[0;34m\u001b[0m\u001b[0;34m\u001b[0m\u001b[0m\n\u001b[0m",
            "\u001b[0;31mNameError\u001b[0m: name 'L' is not defined"
          ]
        }
      ]
    },
    {
      "cell_type": "markdown",
      "source": [
        "---\n",
        "# Q2 - D is a dictionary defined as D= {1:5.6, 2:7.8, 3:6.6, 4:8.7, 5:7.7}"
      ],
      "metadata": {
        "id": "_qtJG_bt7Myq"
      }
    },
    {
      "cell_type": "markdown",
      "source": [
        "---\n",
        "### 2.1 - WAP to add new entry in D; key=8 and value is 8.8\n",
        "---"
      ],
      "metadata": {
        "id": "wO2Ye8UB7m4d"
      }
    },
    {
      "cell_type": "code",
      "source": [
        "#2.1\n",
        "D = {1:5.6, 2:7.8, 3:6.6, 4:8.7, 5:7.7}\n",
        "print (\"Dictionary      --> \", D)\n",
        "D[8] = 8.8\n",
        "print (\"After Adding    --> \", D)"
      ],
      "metadata": {
        "colab": {
          "base_uri": "https://localhost:8080/"
        },
        "id": "E3gLytkG7-lp",
        "outputId": "5437014d-70e0-4fa2-f138-00fa73e6023b"
      },
      "execution_count": 30,
      "outputs": [
        {
          "output_type": "stream",
          "name": "stdout",
          "text": [
            "Dictionary      -->  {1: 5.6, 2: 7.8, 3: 6.6, 4: 8.7, 5: 7.7}\n",
            "After Adding    -->  {1: 5.6, 2: 7.8, 3: 6.6, 4: 8.7, 5: 7.7, 8: 8.8}\n"
          ]
        }
      ]
    },
    {
      "cell_type": "markdown",
      "source": [
        "---\n",
        "### 2.2 - WAP to remove key=2.\n",
        "---"
      ],
      "metadata": {
        "id": "g6TSQtSQ_Ng0"
      }
    },
    {
      "cell_type": "code",
      "source": [
        "#2.2\n",
        "D = {1:5.6, 2:7.8, 3:6.6, 4:8.7, 5:7.7}\n",
        "print (\"Dictionary      --> \", D)\n",
        "del D[2]\n",
        "print (\"After Deleting  --> \", D)"
      ],
      "metadata": {
        "colab": {
          "base_uri": "https://localhost:8080/"
        },
        "id": "8p-m526n81hV",
        "outputId": "5f294331-3571-425f-c56b-15f1b7676b29"
      },
      "execution_count": 31,
      "outputs": [
        {
          "output_type": "stream",
          "name": "stdout",
          "text": [
            "Dictionary      -->  {1: 5.6, 2: 7.8, 3: 6.6, 4: 8.7, 5: 7.7}\n",
            "After Deleting  -->  {1: 5.6, 3: 6.6, 4: 8.7, 5: 7.7}\n"
          ]
        }
      ]
    },
    {
      "cell_type": "markdown",
      "source": [
        "---\n",
        "### 2.3 - WAP to check weather 6 key is present in D.\n",
        "---"
      ],
      "metadata": {
        "id": "uxY4Wyqs_PDL"
      }
    },
    {
      "cell_type": "code",
      "source": [
        "#2.3\n",
        "D = {1:5.6, 2:7.8, 3:6.6, 4:8.7, 5:7.7}\n",
        "print (\"Dictionary      --> \", D)\n",
        "for i in D:\n",
        "  if i==6:\n",
        "    print(\"Present\")\n",
        "else:\n",
        "  print(\"Absent\")"
      ],
      "metadata": {
        "colab": {
          "base_uri": "https://localhost:8080/"
        },
        "id": "Gu2EnUT99Ee4",
        "outputId": "3911ad29-eec6-4d9a-fa73-032331dcdb08"
      },
      "execution_count": 33,
      "outputs": [
        {
          "output_type": "stream",
          "name": "stdout",
          "text": [
            "Dictionary      -->  {1: 5.6, 2: 7.8, 3: 6.6, 4: 8.7, 5: 7.7}\n",
            "Absent\n"
          ]
        }
      ]
    },
    {
      "cell_type": "markdown",
      "source": [
        "---\n",
        "### 2.4 - WAP to count the number of elements present in D.\n",
        "---"
      ],
      "metadata": {
        "id": "4V388xG4_PlD"
      }
    },
    {
      "cell_type": "code",
      "source": [
        "#2.4\n",
        "D = {1:5.6, 2:7.8, 3:6.6, 4:8.7, 5:7.7}\n",
        "print (\"Dictionary          --> \", D)\n",
        "print (\"Number of Elements  --> \", len(D))"
      ],
      "metadata": {
        "colab": {
          "base_uri": "https://localhost:8080/"
        },
        "id": "VRirubr5-G5K",
        "outputId": "6d5d3f88-d54d-4300-8a05-45d3e19e6204"
      },
      "execution_count": 35,
      "outputs": [
        {
          "output_type": "stream",
          "name": "stdout",
          "text": [
            "Dictionary          -->  {1: 5.6, 2: 7.8, 3: 6.6, 4: 8.7, 5: 7.7}\n",
            "Number of Elements  -->  5\n"
          ]
        }
      ]
    },
    {
      "cell_type": "markdown",
      "source": [
        "---\n",
        "### 2.5 - WAP to add all the values present D.\n",
        "---"
      ],
      "metadata": {
        "id": "9e0hNFRX_QXB"
      }
    },
    {
      "cell_type": "code",
      "source": [
        "#2.5\n",
        "D = {1:5.6, 2:7.8, 3:6.6, 4:8.7, 5:7.7}\n",
        "print (\"Dictionary           --> \", D)\n",
        "sum = 0\n",
        "for i in D.values():\n",
        "  sum = sum + i\n",
        "print (\"The sum of values is --> \",sum)"
      ],
      "metadata": {
        "colab": {
          "base_uri": "https://localhost:8080/"
        },
        "id": "e_mbStGO-WOe",
        "outputId": "83cf7073-718f-4a91-c07f-84237df47ce3"
      },
      "execution_count": 38,
      "outputs": [
        {
          "output_type": "stream",
          "name": "stdout",
          "text": [
            "Dictionary           -->  {1: 5.6, 2: 7.8, 3: 6.6, 4: 8.7, 5: 7.7}\n",
            "The sum of values is -->  36.4\n"
          ]
        }
      ]
    },
    {
      "cell_type": "markdown",
      "source": [
        "---\n",
        "### 2.6 - WAP to update the value of 3 to 7.1.\n",
        "---"
      ],
      "metadata": {
        "id": "g2e2MDJP_Q8D"
      }
    },
    {
      "cell_type": "code",
      "source": [
        "#2.6\n",
        "D = {1:5.6, 2:7.8, 3:6.6, 4:8.7, 5:7.7}\n",
        "print (\"Dictionary      --> \", D)\n",
        "D[3] = 7.1\n",
        "print (\"After Editing   --> \", D)"
      ],
      "metadata": {
        "colab": {
          "base_uri": "https://localhost:8080/"
        },
        "id": "mm6YYISN-8j3",
        "outputId": "dca8e9cc-0ebb-40a2-bfa5-5f5f75b7c0b8"
      },
      "execution_count": 39,
      "outputs": [
        {
          "output_type": "stream",
          "name": "stdout",
          "text": [
            "Dictionary      -->  {1: 5.6, 2: 7.8, 3: 6.6, 4: 8.7, 5: 7.7}\n",
            "After Editing   -->  {1: 5.6, 2: 7.8, 3: 7.1, 4: 8.7, 5: 7.7}\n"
          ]
        }
      ]
    },
    {
      "cell_type": "markdown",
      "source": [
        "---\n",
        "### 2.7 - WAP to clear the dictionary.\n",
        "---"
      ],
      "metadata": {
        "id": "0j9J30hd_RqI"
      }
    },
    {
      "cell_type": "code",
      "source": [
        "#2.7\n",
        "D = {1:5.6, 2:7.8, 3:6.6, 4:8.7, 5:7.7}\n",
        "print (\"Dictionary      --> \", D)\n",
        "D.clear()\n",
        "print (\"After Clearing  --> \", D)"
      ],
      "metadata": {
        "colab": {
          "base_uri": "https://localhost:8080/"
        },
        "id": "DHvQF_Mi_HAE",
        "outputId": "27351d9a-83a8-440f-9782-e9292baf2581"
      },
      "execution_count": 40,
      "outputs": [
        {
          "output_type": "stream",
          "name": "stdout",
          "text": [
            "Dictionary      -->  {1: 5.6, 2: 7.8, 3: 6.6, 4: 8.7, 5: 7.7}\n",
            "After Clearing  -->  {}\n"
          ]
        }
      ]
    },
    {
      "cell_type": "markdown",
      "source": [
        "---\n",
        "# Q3 - S1 is a set defined as S1= [10, 20, 30, 40, 50, 60].    S2 is a set defined as S2= [40, 50, 60, 70, 80, 90]."
      ],
      "metadata": {
        "id": "DBaT30Z7_12z"
      }
    },
    {
      "cell_type": "markdown",
      "source": [
        "---\n",
        "### 3.1 - WAP to add 55 and 66 in Set S1.\n",
        "---"
      ],
      "metadata": {
        "id": "3I4xWCvgAU0m"
      }
    },
    {
      "cell_type": "code",
      "source": [
        "#3.1\n",
        "S1 = {10, 20, 30, 40, 50, 60}\n",
        "S2 = {40, 50, 60, 70, 80, 90}\n",
        "print(\"Original set S1      --> \", S1)\n",
        "print(\"Original set S2      --> \", S2)\n",
        "\n",
        "S1.add(55)        # add 55 to S1\n",
        "S1.add(66)        # add 66 to S1\n",
        "print(\"New set S1           --> \", S1)"
      ],
      "metadata": {
        "colab": {
          "base_uri": "https://localhost:8080/"
        },
        "id": "icfTNb5QAf6R",
        "outputId": "c563974f-2584-447f-88f6-b99f54fb656e"
      },
      "execution_count": 49,
      "outputs": [
        {
          "output_type": "stream",
          "name": "stdout",
          "text": [
            "Original set S1      -->  {50, 20, 40, 10, 60, 30}\n",
            "Original set S2      -->  {80, 50, 70, 40, 90, 60}\n",
            "New set S1           -->  {50, 66, 20, 55, 40, 10, 60, 30}\n"
          ]
        }
      ]
    },
    {
      "cell_type": "markdown",
      "source": [
        "---\n",
        "### 3.2 - WAP to remove 10 and 30 from Set S1.\n",
        "---"
      ],
      "metadata": {
        "id": "e3MF1klGDe_S"
      }
    },
    {
      "cell_type": "code",
      "source": [
        "#3.2\n",
        "S1 = {10, 20, 30, 40, 50, 60}\n",
        "S2 = {40, 50, 60, 70, 80, 90}\n",
        "print(\"Original set S1      --> \", S1)\n",
        "print(\"Original set S2      --> \", S2)\n",
        "\n",
        "S1.remove(10)        # removing 10 from S1\n",
        "S1.remove(30)        # removing 30 from S1\n",
        "print(\"New set S1           --> \", S1)"
      ],
      "metadata": {
        "colab": {
          "base_uri": "https://localhost:8080/"
        },
        "id": "49437xhTCHCZ",
        "outputId": "ecb9e690-ba60-4fdd-def6-694fe5710b8a"
      },
      "execution_count": 50,
      "outputs": [
        {
          "output_type": "stream",
          "name": "stdout",
          "text": [
            "Original set S1      -->  {50, 20, 40, 10, 60, 30}\n",
            "Original set S2      -->  {80, 50, 70, 40, 90, 60}\n",
            "New set S1           -->  {50, 20, 40, 60}\n"
          ]
        }
      ]
    },
    {
      "cell_type": "markdown",
      "source": [
        "---\n",
        "### 3.3 - WAP to check whether 40 is present in S1.\n",
        "---"
      ],
      "metadata": {
        "id": "vUNDyHDhDjwh"
      }
    },
    {
      "cell_type": "code",
      "source": [
        "#3.3\n",
        "S1 = {10, 20, 30, 40, 50, 60}\n",
        "S2 = {40, 50, 60, 70, 80, 90}\n",
        "print(\"Original set S1      --> \", S1)\n",
        "print(\"Original set S2      --> \", S2)\n",
        "\n",
        "for i in S1:\n",
        "  if i == 40:\n",
        "    print(\"Present\")\n",
        "    break\n",
        "else:\n",
        "  print(\"Not Present\")"
      ],
      "metadata": {
        "colab": {
          "base_uri": "https://localhost:8080/"
        },
        "id": "Ta5s4ISICbgT",
        "outputId": "9e056854-43ec-4fab-9ddc-20c528b5d39f"
      },
      "execution_count": 53,
      "outputs": [
        {
          "output_type": "stream",
          "name": "stdout",
          "text": [
            "Original set S1      -->  {50, 20, 40, 10, 60, 30}\n",
            "Original set S2      -->  {80, 50, 70, 40, 90, 60}\n",
            "Present\n",
            "Not Present\n"
          ]
        }
      ]
    },
    {
      "cell_type": "markdown",
      "source": [
        "---\n",
        "### 3.4 - WAP to find the union between S1 and S2.\n",
        "---"
      ],
      "metadata": {
        "id": "OIAH5N2PDkZs"
      }
    },
    {
      "cell_type": "code",
      "source": [
        "#3.4\n",
        "S1 = {10, 20, 30, 40, 50, 60}\n",
        "S2 = {40, 50, 60, 70, 80, 90}\n",
        "print(\"Original set S1      --> \", S1)\n",
        "print(\"Original set S2      --> \", S2)\n",
        "\n",
        "print(\"Union of S1 and S2   --> \", S1.union(S2))"
      ],
      "metadata": {
        "colab": {
          "base_uri": "https://localhost:8080/"
        },
        "id": "UklKWPxLC5Jx",
        "outputId": "410c19b2-698a-442a-f0a4-6fb239f90155"
      },
      "execution_count": 55,
      "outputs": [
        {
          "output_type": "stream",
          "name": "stdout",
          "text": [
            "Original set S1      -->  {50, 20, 40, 10, 60, 30}\n",
            "Original set S2      -->  {80, 50, 70, 40, 90, 60}\n",
            "Union of S1 and S2   -->  {70, 40, 10, 80, 50, 20, 90, 60, 30}\n"
          ]
        }
      ]
    },
    {
      "cell_type": "markdown",
      "source": [
        "---\n",
        "### 3.5 - WAP to find the intersection between S1 and S2.\n",
        "---"
      ],
      "metadata": {
        "id": "RLH7ndlqDlMK"
      }
    },
    {
      "cell_type": "code",
      "source": [
        "#3.5\n",
        "S1 = {10, 20, 30, 40, 50, 60}\n",
        "S2 = {40, 50, 60, 70, 80, 90}\n",
        "print(\"Original set S1      --> \", S1)\n",
        "print(\"Original set S2      --> \", S2)\n",
        "\n",
        "print(\"Union of S1 and S2   --> \", S1.intersection(S2))"
      ],
      "metadata": {
        "colab": {
          "base_uri": "https://localhost:8080/"
        },
        "id": "ebkcTBjZDHYZ",
        "outputId": "32f272f3-372a-45aa-9e8c-2e946f087bf4"
      },
      "execution_count": 56,
      "outputs": [
        {
          "output_type": "stream",
          "name": "stdout",
          "text": [
            "Original set S1      -->  {50, 20, 40, 10, 60, 30}\n",
            "Original set S2      -->  {80, 50, 70, 40, 90, 60}\n",
            "Union of S1 and S2   -->  {40, 50, 60}\n"
          ]
        }
      ]
    },
    {
      "cell_type": "markdown",
      "source": [
        "---\n",
        "### 3.6 - WAP to find the S1 - S2.\n",
        "---"
      ],
      "metadata": {
        "id": "9uS5s1HMDl8q"
      }
    },
    {
      "cell_type": "code",
      "source": [
        "#3.6\n",
        "S1 = {10, 20, 30, 40, 50, 60}\n",
        "S2 = {40, 50, 60, 70, 80, 90}\n",
        "print(\"Original set S1      --> \", S1)\n",
        "print(\"Original set S2      --> \", S2)\n",
        "\n",
        "print(\"S1 - S2              --> \", S1 - S2)"
      ],
      "metadata": {
        "colab": {
          "base_uri": "https://localhost:8080/"
        },
        "id": "II7Y5pBuDQzT",
        "outputId": "f7c95988-2707-4693-afab-b357a49c4e8e"
      },
      "execution_count": 57,
      "outputs": [
        {
          "output_type": "stream",
          "name": "stdout",
          "text": [
            "Original set S1      -->  {50, 20, 40, 10, 60, 30}\n",
            "Original set S2      -->  {80, 50, 70, 40, 90, 60}\n",
            "S1 - S2              -->  {10, 20, 30}\n"
          ]
        }
      ]
    },
    {
      "cell_type": "markdown",
      "source": [
        "---\n",
        "# Q4 - Write the following programs:"
      ],
      "metadata": {
        "id": "V2_3X0SND7oq"
      }
    },
    {
      "cell_type": "markdown",
      "source": [
        "---\n",
        "### 4.1 - WAP to print 100 random strings whose length between 6 and 8.\n",
        "---"
      ],
      "metadata": {
        "id": "1CeWnDnOEFD1"
      }
    },
    {
      "cell_type": "code",
      "source": [
        "#4.1\n",
        "import string as s\n",
        "import random as r\n",
        "print (\"String        --> \",s.ascii_letters)\n",
        "for i in range(100):\n",
        "  length = r.randint(6,8)\n",
        "  r_string=r.sample(s.ascii_letters + s.ascii_letters + s.ascii_letters, length)\n",
        "  r_string=\"\".join(r_string)\n",
        "  print (\"Random string number \", i+1, \" is  --> \",r_string)"
      ],
      "metadata": {
        "colab": {
          "base_uri": "https://localhost:8080/"
        },
        "id": "AAdxFNN6EJbu",
        "outputId": "48be9773-03f2-43dd-d762-37ad0ffeef16"
      },
      "execution_count": 63,
      "outputs": [
        {
          "output_type": "stream",
          "name": "stdout",
          "text": [
            "String        -->  abcdefghijklmnopqrstuvwxyzABCDEFGHIJKLMNOPQRSTUVWXYZ\n",
            "Random string number  1  is  -->  zKyQJge\n",
            "Random string number  2  is  -->  iWcKen\n",
            "Random string number  3  is  -->  jfAWJDvN\n",
            "Random string number  4  is  -->  CXIBVeE\n",
            "Random string number  5  is  -->  lCgCPu\n",
            "Random string number  6  is  -->  IXojgx\n",
            "Random string number  7  is  -->  quHQLB\n",
            "Random string number  8  is  -->  RLVKWNYA\n",
            "Random string number  9  is  -->  nrHyZnWJ\n",
            "Random string number  10  is  -->  IlmjOF\n",
            "Random string number  11  is  -->  SlePuQKW\n",
            "Random string number  12  is  -->  NDcfMeHN\n",
            "Random string number  13  is  -->  vgcvNIz\n",
            "Random string number  14  is  -->  KILhev\n",
            "Random string number  15  is  -->  DeSzjd\n",
            "Random string number  16  is  -->  fNABjmH\n",
            "Random string number  17  is  -->  FxuqCiwd\n",
            "Random string number  18  is  -->  nGlLArSc\n",
            "Random string number  19  is  -->  NKCMfnQt\n",
            "Random string number  20  is  -->  IXHDSg\n",
            "Random string number  21  is  -->  FrzIww\n",
            "Random string number  22  is  -->  nDzAKVOJ\n",
            "Random string number  23  is  -->  sSxKDch\n",
            "Random string number  24  is  -->  xWYERtHL\n",
            "Random string number  25  is  -->  KrGKTJjf\n",
            "Random string number  26  is  -->  ZCvxYd\n",
            "Random string number  27  is  -->  eChNFn\n",
            "Random string number  28  is  -->  xYAKOmw\n",
            "Random string number  29  is  -->  YOCDIp\n",
            "Random string number  30  is  -->  bGzkktB\n",
            "Random string number  31  is  -->  XJTmbk\n",
            "Random string number  32  is  -->  TnCloX\n",
            "Random string number  33  is  -->  QHWgpi\n",
            "Random string number  34  is  -->  uDfLbd\n",
            "Random string number  35  is  -->  JVjgtB\n",
            "Random string number  36  is  -->  nIXqhr\n",
            "Random string number  37  is  -->  QrGLrhXS\n",
            "Random string number  38  is  -->  xmbFOsVi\n",
            "Random string number  39  is  -->  cUKqQeQ\n",
            "Random string number  40  is  -->  eqnajdM\n",
            "Random string number  41  is  -->  RgVtWm\n",
            "Random string number  42  is  -->  ZmVLpTBE\n",
            "Random string number  43  is  -->  yJhINdpb\n",
            "Random string number  44  is  -->  lDKaMeZ\n",
            "Random string number  45  is  -->  dzqkrm\n",
            "Random string number  46  is  -->  BblPNtkx\n",
            "Random string number  47  is  -->  NwkKDBL\n",
            "Random string number  48  is  -->  kKxtNoTY\n",
            "Random string number  49  is  -->  DXCNvURt\n",
            "Random string number  50  is  -->  GMsAXjDd\n",
            "Random string number  51  is  -->  utNeTRz\n",
            "Random string number  52  is  -->  HMsDaeM\n",
            "Random string number  53  is  -->  PvKYma\n",
            "Random string number  54  is  -->  ODFsga\n",
            "Random string number  55  is  -->  yXnRpRtD\n",
            "Random string number  56  is  -->  PmtOul\n",
            "Random string number  57  is  -->  ubcziZPL\n",
            "Random string number  58  is  -->  ITEieo\n",
            "Random string number  59  is  -->  FcbtYkHB\n",
            "Random string number  60  is  -->  sPbitxRv\n",
            "Random string number  61  is  -->  MKEITDqz\n",
            "Random string number  62  is  -->  YEBUwNFV\n",
            "Random string number  63  is  -->  jxIMmL\n",
            "Random string number  64  is  -->  IsZilx\n",
            "Random string number  65  is  -->  McxjDq\n",
            "Random string number  66  is  -->  AvQvycH\n",
            "Random string number  67  is  -->  hpruSYGM\n",
            "Random string number  68  is  -->  RHDaaZc\n",
            "Random string number  69  is  -->  GwRAVZx\n",
            "Random string number  70  is  -->  frBACw\n",
            "Random string number  71  is  -->  eIMiCgsK\n",
            "Random string number  72  is  -->  fpjdKpa\n",
            "Random string number  73  is  -->  CMRkLXm\n",
            "Random string number  74  is  -->  Raqjhh\n",
            "Random string number  75  is  -->  dHYnXx\n",
            "Random string number  76  is  -->  vHHVBic\n",
            "Random string number  77  is  -->  DVjjyWvd\n",
            "Random string number  78  is  -->  dyHRxzl\n",
            "Random string number  79  is  -->  SFKkhDjr\n",
            "Random string number  80  is  -->  vVskde\n",
            "Random string number  81  is  -->  iwJYXc\n",
            "Random string number  82  is  -->  lkvtEbC\n",
            "Random string number  83  is  -->  qPSYhyg\n",
            "Random string number  84  is  -->  XTvQwm\n",
            "Random string number  85  is  -->  YUwFoHf\n",
            "Random string number  86  is  -->  TIUOtKJ\n",
            "Random string number  87  is  -->  dIBUZJHy\n",
            "Random string number  88  is  -->  xWqjTSX\n",
            "Random string number  89  is  -->  tHAhug\n",
            "Random string number  90  is  -->  NYhYmu\n",
            "Random string number  91  is  -->  WuQoNpMD\n",
            "Random string number  92  is  -->  gitCTDr\n",
            "Random string number  93  is  -->  EguzmaSR\n",
            "Random string number  94  is  -->  nXdmxUc\n",
            "Random string number  95  is  -->  YmFTlykV\n",
            "Random string number  96  is  -->  uFIXrL\n",
            "Random string number  97  is  -->  CGJrPEU\n",
            "Random string number  98  is  -->  kAszxtwP\n",
            "Random string number  99  is  -->  hVFWfyo\n",
            "Random string number  100  is  -->  tCrkNJ\n"
          ]
        }
      ]
    },
    {
      "cell_type": "markdown",
      "source": [
        "---\n",
        "### 4.2 - WAP to print all prime numbers between 600 and 800.\n",
        "---"
      ],
      "metadata": {
        "id": "WXvw82biF9cS"
      }
    },
    {
      "cell_type": "code",
      "source": [
        "#4.2\n",
        "def IsPrime(n):\n",
        "\tfor i in range(2, n//2 + 1):\n",
        "\t\tif n%i==0:\n",
        "\t\t\treturn 0\n",
        "\treturn 1\n",
        "flag = 1\n",
        "for i in range (600,800):\n",
        "  if IsPrime(i):\n",
        "    flag = 0;\n",
        "    print(i,end = ' ')        # Printing prime numbers\n",
        "if flag:\n",
        "  print(\"No Prime Numbers\")"
      ],
      "metadata": {
        "colab": {
          "base_uri": "https://localhost:8080/"
        },
        "id": "u5p9agE-GBM3",
        "outputId": "aeb2b941-b7fa-43d6-bf15-4723958fad18"
      },
      "execution_count": 70,
      "outputs": [
        {
          "output_type": "stream",
          "name": "stdout",
          "text": [
            "601 607 613 617 619 631 641 643 647 653 659 661 673 677 683 691 701 709 719 727 733 739 743 751 757 761 769 773 787 797 "
          ]
        }
      ]
    },
    {
      "cell_type": "markdown",
      "source": [
        "---\n",
        "### 4.3 - WAP to print all numbers between 100 and 1000 that are divisible by 7 and 9.\n",
        "---"
      ],
      "metadata": {
        "id": "xu3nU7icHHce"
      }
    },
    {
      "cell_type": "code",
      "source": [
        "#4.3\n",
        "for i in range(100,1000):\n",
        "  if ((i % 7 == 0)&(i % 9 == 0)):\n",
        "    print(i, end = ' ')"
      ],
      "metadata": {
        "colab": {
          "base_uri": "https://localhost:8080/"
        },
        "id": "Voi00ARNHLKN",
        "outputId": "3a509aeb-27c4-4240-c8ca-b1915b4af14f"
      },
      "execution_count": 77,
      "outputs": [
        {
          "output_type": "stream",
          "name": "stdout",
          "text": [
            "126 189 252 315 378 441 504 567 630 693 756 819 882 945 "
          ]
        }
      ]
    },
    {
      "cell_type": "markdown",
      "source": [
        "---\n",
        "# Q5 - WAP to create two lists of 10 random numbers between 10 and 30; Find"
      ],
      "metadata": {
        "id": "KTQhaeJhIUwU"
      }
    },
    {
      "cell_type": "markdown",
      "source": [
        "---\n",
        "### 5.1 - Common numbers in the two lists\n",
        "---"
      ],
      "metadata": {
        "id": "pxivZzZ5IcAU"
      }
    },
    {
      "cell_type": "code",
      "source": [
        "#5.1\n",
        "import random as r\n",
        "\n",
        "L1 = []\n",
        "L2 = []\n",
        "\n",
        "for i in range(10):\n",
        "    L1.append(r.randint(10, 30))\n",
        "    L2.append(r.randint(10, 30))\n",
        "\n",
        "set1 = set(L1)\n",
        "set2 = set(L2)\n",
        "\n",
        "print(\"List 1           --> \", L1)  # random list created\n",
        "print(\"List 2           --> \", L2)  # random list created\n",
        "print(\"Common Numbers   --> \", set1.intersection(set2))"
      ],
      "metadata": {
        "colab": {
          "base_uri": "https://localhost:8080/"
        },
        "id": "00j4-QZ_IlAG",
        "outputId": "d1b69ce1-a1b7-4c3e-9e32-cef54c184927"
      },
      "execution_count": 90,
      "outputs": [
        {
          "output_type": "stream",
          "name": "stdout",
          "text": [
            "List 1           -->  [23, 12, 24, 23, 20, 17, 16, 12, 27, 28]\n",
            "List 2           -->  [27, 11, 20, 23, 26, 30, 25, 28, 10, 13]\n",
            "Common Numbers   -->  {27, 20, 28, 23}\n"
          ]
        }
      ]
    },
    {
      "cell_type": "markdown",
      "source": [
        "---\n",
        "### 5.2 - Unique numbers in both the list\n",
        "---"
      ],
      "metadata": {
        "id": "lICq5AwqMtJf"
      }
    },
    {
      "cell_type": "code",
      "source": [
        "#5.2\n",
        "import random as r\n",
        "\n",
        "L1 = []\n",
        "L2 = []\n",
        "\n",
        "for i in range(10):\n",
        "    L1.append(r.randint(10, 30))\n",
        "    L2.append(r.randint(10, 30))\n",
        "\n",
        "set1 = set(L1)\n",
        "set2 = set(L2)\n",
        "\n",
        "print(\"List 1                 --> \", L1)  # random list created\n",
        "print(\"List 2                 --> \", L2)  # random list created\n",
        "\n",
        "print(\"Unique Numbers in L1   --> \", set1 - set1.intersection(set2))\n",
        "print(\"Unique Numbers in L2   --> \", set2 - set1.intersection(set2))"
      ],
      "metadata": {
        "colab": {
          "base_uri": "https://localhost:8080/"
        },
        "id": "Cbh_Hd5EJ1pA",
        "outputId": "713441e5-9e48-4023-bb06-cdde1055c4a9"
      },
      "execution_count": 93,
      "outputs": [
        {
          "output_type": "stream",
          "name": "stdout",
          "text": [
            "List 1                 -->  [20, 23, 11, 23, 27, 28, 22, 30, 10, 15]\n",
            "List 2                 -->  [15, 17, 28, 18, 25, 27, 28, 15, 12, 24]\n",
            "Unique Numbers in L1   -->  {10, 11, 20, 22, 23, 30}\n",
            "Unique Numbers in L2   -->  {12, 17, 18, 24, 25}\n"
          ]
        }
      ]
    },
    {
      "cell_type": "markdown",
      "source": [
        "---\n",
        "### 5.3 - Minimum in both the list\n",
        "---"
      ],
      "metadata": {
        "id": "wMDFxBGVMuJj"
      }
    },
    {
      "cell_type": "code",
      "source": [
        "#5.3\n",
        "import random as r\n",
        "\n",
        "L1 = []\n",
        "L2 = []\n",
        "\n",
        "for i in range(10):\n",
        "    L1.append(r.randint(10, 30))\n",
        "    L2.append(r.randint(10, 30))\n",
        "\n",
        "print(\"List 1                 --> \", L1)  # random list created\n",
        "print(\"List 2                 --> \", L2)  # random list created\n",
        "\n",
        "print(\"Minimum Numbers in L1  --> \", min(L1))\n",
        "print(\"Minimum Numbers in L2  --> \", min(L2))"
      ],
      "metadata": {
        "colab": {
          "base_uri": "https://localhost:8080/"
        },
        "id": "zCspfXNKMJaR",
        "outputId": "5b0ae970-7181-42a1-e7c4-a004a49eb1c3"
      },
      "execution_count": 96,
      "outputs": [
        {
          "output_type": "stream",
          "name": "stdout",
          "text": [
            "List 1                 -->  [26, 14, 15, 30, 30, 28, 22, 16, 23, 15]\n",
            "List 2                 -->  [19, 21, 28, 13, 26, 26, 14, 23, 12, 19]\n",
            "Minimum Numbers in L1  -->  14\n",
            "Minimum Numbers in L2  -->  12\n"
          ]
        }
      ]
    },
    {
      "cell_type": "markdown",
      "source": [
        "---\n",
        "### 5.4 - Maximum in both the list\n",
        "---"
      ],
      "metadata": {
        "id": "DExwIVb7MvIn"
      }
    },
    {
      "cell_type": "code",
      "source": [
        "#5.4\n",
        "import random as r\n",
        "\n",
        "L1 = []\n",
        "L2 = []\n",
        "\n",
        "for i in range(10):\n",
        "    L1.append(r.randint(10, 30))\n",
        "    L2.append(r.randint(10, 30))\n",
        "\n",
        "print(\"List 1                 --> \", L1)  # random list created\n",
        "print(\"List 2                 --> \", L2)  # random list created\n",
        "\n",
        "print(\"Maximum Numbers in L1  --> \", max(L1))\n",
        "print(\"Maximum Numbers in L2  --> \", max(L2))"
      ],
      "metadata": {
        "colab": {
          "base_uri": "https://localhost:8080/"
        },
        "id": "72UWReJOLzyY",
        "outputId": "19f32658-dadc-4519-c7bc-50dac16493b4"
      },
      "execution_count": 95,
      "outputs": [
        {
          "output_type": "stream",
          "name": "stdout",
          "text": [
            "List 1                 -->  [26, 20, 23, 29, 11, 10, 25, 20, 13, 25]\n",
            "List 2                 -->  [23, 21, 25, 12, 14, 27, 11, 20, 17, 13]\n",
            "Maximum Numbers in L1  -->  29\n",
            "Maximum Numbers in L2  -->  27\n"
          ]
        }
      ]
    },
    {
      "cell_type": "markdown",
      "source": [
        "---\n",
        "### 5.5 - Sum of both the lists\n",
        "---"
      ],
      "metadata": {
        "id": "Bm5fGpK_MwQ9"
      }
    },
    {
      "cell_type": "code",
      "source": [
        "#5.5\n",
        "import random as r\n",
        "\n",
        "L1 = []\n",
        "L2 = []\n",
        "\n",
        "for i in range(10):\n",
        "    L1.append(r.randint(10, 30))\n",
        "    L2.append(r.randint(10, 30))\n",
        "\n",
        "print(\"List 1                 --> \", L1)  # random list created\n",
        "print(\"List 2                 --> \", L2)  # random list created\n",
        "\n",
        "del sum\n",
        "print(\"Sum of Numbers in L1   --> \", sum(L1))\n",
        "print(\"Sum of Numbers in L2   --> \", sum(L2))"
      ],
      "metadata": {
        "colab": {
          "base_uri": "https://localhost:8080/"
        },
        "id": "SNaxZVPHMUnB",
        "outputId": "948ae6b4-a57f-46de-d99f-6b6b9c146603"
      },
      "execution_count": 98,
      "outputs": [
        {
          "output_type": "stream",
          "name": "stdout",
          "text": [
            "List 1                 -->  [18, 25, 25, 12, 15, 11, 22, 15, 25, 21]\n",
            "List 2                 -->  [15, 16, 19, 21, 15, 12, 16, 26, 25, 16]\n",
            "Sum of Numbers in L1   -->  189\n",
            "Sum of Numbers in L2   -->  181\n"
          ]
        }
      ]
    },
    {
      "cell_type": "markdown",
      "source": [
        "---\n",
        "# Q6 - WAP to create a list of 100 random numbers between 100 and 900. Count and print:"
      ],
      "metadata": {
        "id": "qPwZ4UZpNB53"
      }
    },
    {
      "cell_type": "markdown",
      "source": [
        "---\n",
        "### 6.1 - All odd numbers\n",
        "---"
      ],
      "metadata": {
        "id": "M5O7eKTWNF3B"
      }
    },
    {
      "cell_type": "code",
      "source": [
        "#6.1\n",
        "import random as r\n",
        "\n",
        "L = []\n",
        "\n",
        "for i in range(100):\n",
        "    L.append(r.randint(100, 900))\n",
        "\n",
        "print(\"List                        --> \", L)  # random list created\n",
        "\n",
        "count = 0\n",
        "print(\"\\nThe odd numbers are         :- \")\n",
        "for i in L:\n",
        "  if (i % 2):\n",
        "    count = count + 1\n",
        "    print(i)\n",
        "print(\"\\nThere were total \", count, \" ODD numbers.\")"
      ],
      "metadata": {
        "colab": {
          "base_uri": "https://localhost:8080/"
        },
        "id": "IMp4ibn3NcCf",
        "outputId": "1842b8fb-4ac7-4ea3-a2fd-f9f1e2dc6aaf"
      },
      "execution_count": 103,
      "outputs": [
        {
          "output_type": "stream",
          "name": "stdout",
          "text": [
            "List                        -->  [114, 535, 706, 162, 859, 848, 481, 465, 570, 876, 298, 212, 149, 419, 462, 292, 295, 237, 550, 709, 890, 634, 509, 483, 810, 897, 500, 420, 282, 486, 292, 558, 170, 496, 219, 602, 596, 150, 227, 112, 139, 826, 379, 207, 267, 184, 425, 126, 359, 652, 308, 358, 597, 666, 496, 151, 698, 169, 772, 736, 754, 681, 249, 436, 108, 381, 327, 247, 641, 553, 884, 615, 684, 867, 656, 622, 154, 696, 581, 436, 759, 322, 217, 508, 672, 787, 544, 377, 292, 521, 124, 390, 411, 526, 762, 769, 286, 377, 421, 441]\n",
            "\n",
            "The odd numbers are         :- \n",
            "535\n",
            "859\n",
            "481\n",
            "465\n",
            "149\n",
            "419\n",
            "295\n",
            "237\n",
            "709\n",
            "509\n",
            "483\n",
            "897\n",
            "219\n",
            "227\n",
            "139\n",
            "379\n",
            "207\n",
            "267\n",
            "425\n",
            "359\n",
            "597\n",
            "151\n",
            "169\n",
            "681\n",
            "249\n",
            "381\n",
            "327\n",
            "247\n",
            "641\n",
            "553\n",
            "615\n",
            "867\n",
            "581\n",
            "759\n",
            "217\n",
            "787\n",
            "377\n",
            "521\n",
            "411\n",
            "769\n",
            "377\n",
            "421\n",
            "441\n",
            "\n",
            "There were total  43  ODD numbers.\n"
          ]
        }
      ]
    },
    {
      "cell_type": "markdown",
      "source": [
        "---\n",
        "### 6.2 - All even numbers\n",
        "---"
      ],
      "metadata": {
        "id": "FnelnLzRPie0"
      }
    },
    {
      "cell_type": "code",
      "source": [
        "#6.2\n",
        "import random as r\n",
        "\n",
        "L = []\n",
        "\n",
        "for i in range(100):\n",
        "    L.append(r.randint(100, 900))\n",
        "\n",
        "print(\"List                        --> \", L)  # random list created\n",
        "\n",
        "count = 0\n",
        "print(\"\\nThe even numbers are         :- \")\n",
        "for i in L:\n",
        "  if not(i % 2):\n",
        "    count = count + 1\n",
        "    print(i)\n",
        "print(\"\\nThere were total \", count, \" EVEN numbers.\")"
      ],
      "metadata": {
        "colab": {
          "base_uri": "https://localhost:8080/"
        },
        "id": "hfoVAGfxO0M-",
        "outputId": "79180f18-4a61-4a38-eb79-5ca528a25913"
      },
      "execution_count": 105,
      "outputs": [
        {
          "output_type": "stream",
          "name": "stdout",
          "text": [
            "List                        -->  [656, 871, 207, 414, 598, 352, 176, 335, 194, 361, 787, 419, 758, 672, 856, 271, 164, 561, 239, 388, 420, 576, 561, 619, 200, 703, 791, 861, 201, 266, 338, 203, 381, 363, 611, 681, 124, 423, 242, 891, 710, 709, 486, 540, 347, 262, 153, 739, 790, 282, 601, 617, 785, 409, 207, 352, 524, 650, 480, 539, 673, 675, 475, 481, 683, 334, 690, 489, 379, 193, 806, 631, 551, 642, 172, 461, 843, 595, 274, 215, 843, 173, 254, 396, 646, 857, 174, 258, 554, 571, 220, 540, 899, 773, 309, 520, 620, 689, 821, 787]\n",
            "\n",
            "The odd numbers are         :- \n",
            "656\n",
            "414\n",
            "598\n",
            "352\n",
            "176\n",
            "194\n",
            "758\n",
            "672\n",
            "856\n",
            "164\n",
            "388\n",
            "420\n",
            "576\n",
            "200\n",
            "266\n",
            "338\n",
            "124\n",
            "242\n",
            "710\n",
            "486\n",
            "540\n",
            "262\n",
            "790\n",
            "282\n",
            "352\n",
            "524\n",
            "650\n",
            "480\n",
            "334\n",
            "690\n",
            "806\n",
            "642\n",
            "172\n",
            "274\n",
            "254\n",
            "396\n",
            "646\n",
            "174\n",
            "258\n",
            "554\n",
            "220\n",
            "540\n",
            "520\n",
            "620\n",
            "\n",
            "There were total  44  EVEN numbers.\n"
          ]
        }
      ]
    },
    {
      "cell_type": "markdown",
      "source": [
        "---\n",
        "### 6.3 - All prime numbers\n",
        "---"
      ],
      "metadata": {
        "id": "kVa3E5T1Pmlx"
      }
    },
    {
      "cell_type": "code",
      "source": [
        "#6.3\n",
        "import random as r\n",
        "\n",
        "def IsPrime(n):\n",
        "\tfor i in range(2, n//2 + 1):\n",
        "\t\tif n%i==0:\n",
        "\t\t\treturn 0\n",
        "\treturn 1\n",
        "\n",
        "L = []\n",
        "\n",
        "for i in range(100):\n",
        "    L.append(r.randint(100, 900))\n",
        "\n",
        "print(\"List                        --> \", L)  # random list created\n",
        "\n",
        "count = 0\n",
        "print(\"\\nThe prime numbers are       --> \")\n",
        "for i in L:\n",
        "  if IsPrime(i):\n",
        "    count = count + 1\n",
        "    print(i, end = ' ')\n",
        "print(\"\\n\\nThere were total \", count, \" PRIME numbers.\")"
      ],
      "metadata": {
        "colab": {
          "base_uri": "https://localhost:8080/"
        },
        "id": "HenHNT77PDxa",
        "outputId": "09ead087-18d8-4ca5-d71e-21e973453da2"
      },
      "execution_count": 108,
      "outputs": [
        {
          "output_type": "stream",
          "name": "stdout",
          "text": [
            "List                        -->  [760, 403, 204, 871, 531, 713, 788, 835, 644, 214, 460, 864, 899, 853, 207, 209, 390, 509, 656, 605, 182, 713, 855, 228, 569, 250, 377, 681, 159, 122, 252, 481, 520, 633, 759, 115, 234, 310, 500, 837, 128, 692, 493, 272, 676, 868, 841, 705, 258, 368, 876, 577, 192, 892, 620, 365, 104, 521, 605, 878, 356, 588, 466, 545, 403, 523, 817, 705, 442, 856, 272, 532, 639, 252, 687, 211, 838, 532, 848, 401, 854, 714, 771, 339, 207, 530, 353, 694, 687, 354, 472, 661, 181, 369, 443, 430, 586, 600, 315, 643]\n",
            "\n",
            "The prime numbers are       --> \n",
            "853 509 569 577 521 523 211 401 353 661 181 443 643 \n",
            "\n",
            "There were total  13  PRIME numbers.\n"
          ]
        }
      ]
    },
    {
      "cell_type": "markdown",
      "source": [
        "---\n",
        "# Q7 - D is a dictionary defined as D={1:\"One\",2:\"Two\",3:\"Three\",4:\"Four\", 5:\"Five\"}."
      ],
      "metadata": {
        "id": "MgWwc6l0PsvJ"
      }
    },
    {
      "cell_type": "markdown",
      "source": [
        "---\n",
        "### WAP to read all the keys and values from dictionary and write to the file in the given below format :\n",
        "### Key1, Value1\n",
        "###Key2, Value2\n",
        "###Key3, Value3\n",
        "---"
      ],
      "metadata": {
        "id": "eMK2brOBP5cj"
      }
    },
    {
      "cell_type": "code",
      "source": [
        "#7\n",
        "D = {1: \"One\", 2: \"Two\", 3: \"Three\", 4: \"Four\", 5: \"Five\"}\n",
        "\n",
        "with open(\"output_7.txt\", \"w\") as file:                         # Open a file for writing\n",
        "    for key, value in D.items():\n",
        "        file.write(f\"Key{key}, Value{key} \\n\")                # Writing in the file\n",
        "\n",
        "print(\"Data written to the file successfully.\")"
      ],
      "metadata": {
        "colab": {
          "base_uri": "https://localhost:8080/"
        },
        "id": "pN7r-YdCQSjW",
        "outputId": "242c90ed-f327-4c0d-abf2-d2f2f788a617"
      },
      "execution_count": 121,
      "outputs": [
        {
          "output_type": "stream",
          "name": "stdout",
          "text": [
            "Data written to the file successfully.\n"
          ]
        }
      ]
    },
    {
      "cell_type": "markdown",
      "source": [
        "---\n",
        "# Q8 - L is a list defined as L={\"One\",\"Two\",\"Three\",\"Four\",\"Five\"}.\n"
      ],
      "metadata": {
        "id": "01zoZrSCRLvL"
      }
    },
    {
      "cell_type": "markdown",
      "source": [
        "---\n",
        "###WAP to count the length of reach element from a list and write to the file in the given below format:\n",
        "\n",
        "###One, 3\n",
        "###Two, 3\n",
        "###Four, 4\n",
        "\n",
        "---"
      ],
      "metadata": {
        "id": "pM80aTpeRRBK"
      }
    },
    {
      "cell_type": "code",
      "source": [
        "#8\n",
        "L = [\"One\", \"Two\", \"Three\", \"Four\", \"Five\"]\n",
        "\n",
        "sorted_list = sorted(L, key=len)\n",
        "\n",
        "with open(\"output.txt\", \"w\") as file:\n",
        "    for item in sorted_list:\n",
        "        length = len(item)\n",
        "        file.write(f\"{item}, {length}\\n\")\n",
        "\n",
        "print(\"Data written to the file successfully.\")"
      ],
      "metadata": {
        "colab": {
          "base_uri": "https://localhost:8080/"
        },
        "id": "MRe7XD-IRdB6",
        "outputId": "2f7eeaa6-2b91-472f-ea1b-08bea4f4c5bc"
      },
      "execution_count": 126,
      "outputs": [
        {
          "output_type": "stream",
          "name": "stdout",
          "text": [
            "Data written to the file successfully.\n"
          ]
        }
      ]
    },
    {
      "cell_type": "markdown",
      "source": [
        "---\n",
        "# Q9 - Write to the file 100 random strings whose length between 10 and 15.\n",
        "---\n"
      ],
      "metadata": {
        "id": "uViPY5tVSUtB"
      }
    },
    {
      "cell_type": "code",
      "source": [
        "#9\n",
        "import string as s\n",
        "import random as r\n",
        "\n",
        "with open(\"output_9.txt\", \"w\") as file:\n",
        "    for i in range(100):\n",
        "        length = r.randint(10, 15)\n",
        "        r_string = r.sample(s.ascii_letters * 5, length)\n",
        "        r_string = \"\".join(r_string)\n",
        "        file.write(f\"Random string number {i+1} is --> {r_string}\\n\")\n",
        "\n",
        "print(\"Data written to the file successfully.\")"
      ],
      "metadata": {
        "colab": {
          "base_uri": "https://localhost:8080/"
        },
        "id": "D8tkTMYNSbl8",
        "outputId": "b14bebbc-173e-43b7-ccdb-c790e8c7a594"
      },
      "execution_count": 123,
      "outputs": [
        {
          "output_type": "stream",
          "name": "stdout",
          "text": [
            "Data written to the file successfully.\n"
          ]
        }
      ]
    },
    {
      "cell_type": "markdown",
      "source": [
        "---\n",
        "# Q10 - Write to the file all prime numbers between 600 and 800.\n",
        "---"
      ],
      "metadata": {
        "id": "5gUvHCNJTtdd"
      }
    },
    {
      "cell_type": "code",
      "source": [
        "#10\n",
        "def IsPrime(n):\n",
        "    for i in range(2, n//2 + 1):\n",
        "        if n % i == 0:\n",
        "            return False\n",
        "    return True\n",
        "\n",
        "with open(\"output_10.txt\", \"w\") as file:\n",
        "    for i in range(600, 800):\n",
        "        if IsPrime(i):\n",
        "            file.write(str(i) + \"\\n\")\n",
        "\n",
        "print(\"Data written to the file successfully.\")"
      ],
      "metadata": {
        "colab": {
          "base_uri": "https://localhost:8080/"
        },
        "id": "ePsTSgw7TwsL",
        "outputId": "b4aab03a-0c3b-4773-88f8-534a49874b20"
      },
      "execution_count": 128,
      "outputs": [
        {
          "output_type": "stream",
          "name": "stdout",
          "text": [
            "Data written to the file successfully.\n"
          ]
        }
      ]
    },
    {
      "cell_type": "markdown",
      "source": [
        "---\n",
        "# Q11 - WAP to calculate the time taken by a program.\n",
        "---"
      ],
      "metadata": {
        "id": "paDDnV9VU5b3"
      }
    },
    {
      "cell_type": "code",
      "source": [
        "import time as t\n",
        "start = t.time()\n",
        "\n",
        "# calculated time to find 10 fibonacci series\n",
        "\n",
        "def fibonacci(n):\n",
        "    series = []\n",
        "    a, b = 0, 1\n",
        "    while len(series) < n:\n",
        "        series.append(a)\n",
        "        a, b = b, a + b\n",
        "    return series\n",
        "\n",
        "terms = 10\n",
        "\n",
        "fib_series = fibonacci(terms)\n",
        "\n",
        "for num in fib_series:\n",
        "    print(num, end=\" \")\n",
        "\n",
        "end = t.time()\n",
        "\n",
        "print(\"\\nTotal Time     -->\", end - start)\n"
      ],
      "metadata": {
        "colab": {
          "base_uri": "https://localhost:8080/"
        },
        "id": "h2cvpFvDU84v",
        "outputId": "a0d08905-9c60-49ab-e0ff-6d134282d3c0"
      },
      "execution_count": 132,
      "outputs": [
        {
          "output_type": "stream",
          "name": "stdout",
          "text": [
            "0 1 1 2 3 5 8 13 21 34 \n",
            "Total Time     --> 0.009016752243041992\n"
          ]
        }
      ]
    },
    {
      "cell_type": "markdown",
      "source": [
        "---\n",
        "# Q13 - WAP to create a dictionary of student marks in five subjects and you have to find the student having maximum and minimum average marks.\n",
        "---"
      ],
      "metadata": {
        "id": "6ixPNZYRWfkw"
      }
    },
    {
      "cell_type": "code",
      "source": [
        "\n",
        "student_marks = {\n",
        "    'Amar': [85, 90, 92, 88, 89],\n",
        "    'Bhola': [78, 82, 80, 75, 85],\n",
        "    'Chutki': [92, 88, 95, 90, 86],\n",
        "    'Deva': [70, 75, 68, 80, 72],\n",
        "    'Evaanka': [95, 92, 88, 90, 93]\n",
        "}\n",
        "\n",
        "max_average = -1\n",
        "min_average = float('inf')\n",
        "max_student = None\n",
        "min_student = None\n",
        "\n",
        "# Finding the student with maximum and minimum average marks\n",
        "for student, marks in student_marks.items():\n",
        "    average_marks = sum(marks) / len(marks)\n",
        "\n",
        "    if average_marks > max_average:\n",
        "        max_average = average_marks\n",
        "        max_student = student\n",
        "\n",
        "    if average_marks < min_average:\n",
        "        min_average = average_marks\n",
        "        min_student = student\n",
        "\n",
        "# Printing the student with maximum average marks\n",
        "print(\"Student with maximum average marks:\")\n",
        "print(\"Name:\", max_student)\n",
        "print(\"Average Marks:\", sum(student_marks[max_student]) / len(student_marks[max_student]))\n",
        "\n",
        "print()\n",
        "\n",
        "# Printing the student with minimum average marks\n",
        "print(\"Student with minimum average marks:\")\n",
        "print(\"Name:\", min_student)\n",
        "print(\"Average Marks:\", sum(student_marks[min_student]) / len(student_marks[min_student]))\n"
      ],
      "metadata": {
        "colab": {
          "base_uri": "https://localhost:8080/"
        },
        "id": "vgUpbAwJWlby",
        "outputId": "db293f7c-3518-4b90-ad1b-b7585d239b49"
      },
      "execution_count": 137,
      "outputs": [
        {
          "output_type": "stream",
          "name": "stdout",
          "text": [
            "Student with maximum average marks:\n",
            "Name: Evaanka\n",
            "Average Marks: 91.6\n",
            "\n",
            "Student with minimum average marks:\n",
            "Name: Deva\n",
            "Average Marks: 73.0\n"
          ]
        }
      ]
    }
  ]
}